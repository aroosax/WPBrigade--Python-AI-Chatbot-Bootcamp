{
  "nbformat": 4,
  "nbformat_minor": 0,
  "metadata": {
    "colab": {
      "provenance": [],
      "authorship_tag": "ABX9TyMcVgxIJBGBa1gp3k2PASXC",
      "include_colab_link": true
    },
    "kernelspec": {
      "name": "python3",
      "display_name": "Python 3"
    },
    "language_info": {
      "name": "python"
    }
  },
  "cells": [
    {
      "cell_type": "markdown",
      "metadata": {
        "id": "view-in-github",
        "colab_type": "text"
      },
      "source": [
        "<a href=\"https://colab.research.google.com/github/aroosax/WPBrigade--Python-AI-Chatbot-Bootcamp/blob/main/Day1.ipynb\" target=\"_parent\"><img src=\"https://colab.research.google.com/assets/colab-badge.svg\" alt=\"Open In Colab\"/></a>"
      ]
    },
    {
      "cell_type": "markdown",
      "source": [
        "Variables and data types"
      ],
      "metadata": {
        "id": "EhUAtX9lAAK7"
      }
    },
    {
      "cell_type": "code",
      "execution_count": 1,
      "metadata": {
        "colab": {
          "base_uri": "https://localhost:8080/"
        },
        "id": "ZGn9gNwI_1pq",
        "outputId": "b508cb9d-0da9-4c47-813f-f88b8ef0c3be"
      },
      "outputs": [
        {
          "output_type": "stream",
          "name": "stdout",
          "text": [
            "5\n",
            "10.9\n",
            "Aroosa\n",
            "True\n"
          ]
        }
      ],
      "source": [
        "x = 5\n",
        "y = 10.9\n",
        "name = \"Aroosa\"\n",
        "SwitchOff = True\n",
        "print(x)\n",
        "print(y)\n",
        "print(name)\n",
        "print(SwitchOff)"
      ]
    }
  ]
}