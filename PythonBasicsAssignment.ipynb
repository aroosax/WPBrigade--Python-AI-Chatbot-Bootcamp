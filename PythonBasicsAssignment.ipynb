{
  "nbformat": 4,
  "nbformat_minor": 0,
  "metadata": {
    "colab": {
      "provenance": [],
      "authorship_tag": "ABX9TyOOTlYfd6astffv0xOUGMAz",
      "include_colab_link": true
    },
    "kernelspec": {
      "name": "python3",
      "display_name": "Python 3"
    },
    "language_info": {
      "name": "python"
    }
  },
  "cells": [
    {
      "cell_type": "markdown",
      "metadata": {
        "id": "view-in-github",
        "colab_type": "text"
      },
      "source": [
        "<a href=\"https://colab.research.google.com/github/aroosax/WPBrigade--Python-AI-Chatbot-Bootcamp/blob/main/PythonBasicsAssignment.ipynb\" target=\"_parent\"><img src=\"https://colab.research.google.com/assets/colab-badge.svg\" alt=\"Open In Colab\"/></a>"
      ]
    },
    {
      "cell_type": "markdown",
      "source": [
        "# 1: Variables"
      ],
      "metadata": {
        "id": "ME84LEnuDlEi"
      }
    },
    {
      "cell_type": "code",
      "execution_count": null,
      "metadata": {
        "colab": {
          "base_uri": "https://localhost:8080/"
        },
        "id": "tGiEEM5kC1UI",
        "outputId": "467295f4-4aa4-4f59-fca3-4f1a4b78e9ed"
      },
      "outputs": [
        {
          "output_type": "stream",
          "name": "stdout",
          "text": [
            "My name is Aroosa and I am 24 years old\n"
          ]
        }
      ],
      "source": [
        "# Create a variable `name` to store your name and `age` to store your age. Print them in a sentence\n",
        "name = \"Aroosa\"\n",
        "age = 24\n",
        "print(f\"My name is {name} and I am {age} years old\")"
      ]
    },
    {
      "cell_type": "code",
      "source": [
        "# Swap the values of two variables `x` and `y` without using a third variable.\n",
        "x = 15\n",
        "y = 20\n",
        "x,y = y,x\n",
        "print(f\"The value of x is {x} and the value of y is {y}\")"
      ],
      "metadata": {
        "colab": {
          "base_uri": "https://localhost:8080/"
        },
        "id": "WxMqdrqLEQzk",
        "outputId": "bfad1c39-ceaa-48b7-a31b-4581a0217837"
      },
      "execution_count": null,
      "outputs": [
        {
          "output_type": "stream",
          "name": "stdout",
          "text": [
            "The value of x is 20 and the value of y is 15\n"
          ]
        }
      ]
    },
    {
      "cell_type": "markdown",
      "source": [
        "# 2: Operators"
      ],
      "metadata": {
        "id": "WtMk1_IlEqYF"
      }
    },
    {
      "cell_type": "code",
      "source": [
        "# Write a program that takes two numbers from the user and prints their sum, difference, product, and quotient.\n",
        "num1 = int(input(\"Enter number 1 =\"))\n",
        "num2 = int(input(\"Enter number 2 =\"))\n",
        "print(f\"The sum of two numbers is ={num1+num2}\")\n",
        "print(f\"The difference of two numbers is = {num1-num2}\")\n",
        "print(f\"The product of two numbers is = {num1*num2}\")\n",
        "print(f\"The quotient of two numbers is = {num1/num2}\")"
      ],
      "metadata": {
        "colab": {
          "base_uri": "https://localhost:8080/"
        },
        "id": "RgW-CpKcEydY",
        "outputId": "cad7603e-b824-4bd6-8820-533363ceea8c"
      },
      "execution_count": null,
      "outputs": [
        {
          "output_type": "stream",
          "name": "stdout",
          "text": [
            "Enter number 1 =10\n",
            "Enter number 2 =5\n",
            "The sum of two numbers is =15\n",
            "The difference of two numbers is = 5\n",
            "The product of two numbers is = 50\n",
            "The quotient of two numbers is = 2.0\n"
          ]
        }
      ]
    },
    {
      "cell_type": "code",
      "source": [
        "# Check if a number entered by the user is even or odd using the modulo (%) operator.\n",
        "num = int(input(\"Enter a number =\"))\n",
        "if num%2==0:\n",
        "  print(\"Number is even\")\n",
        "else:\n",
        "    print(\"Number is odd\")"
      ],
      "metadata": {
        "colab": {
          "base_uri": "https://localhost:8080/"
        },
        "id": "_MOYJ3QRGX7m",
        "outputId": "ae2133d6-b35b-45be-f130-5e2352b81f33"
      },
      "execution_count": null,
      "outputs": [
        {
          "output_type": "stream",
          "name": "stdout",
          "text": [
            "Enter a number =8\n",
            "Number is even\n"
          ]
        }
      ]
    },
    {
      "cell_type": "markdown",
      "source": [
        "# 3: Conditions"
      ],
      "metadata": {
        "id": "oWyEthXRGzk6"
      }
    },
    {
      "cell_type": "code",
      "source": [
        "# Write a program to check if a person is eligible to vote (age ≥ 18)\n",
        "age = int(input(\"Enter your age =\"))\n",
        "if age >= 18:\n",
        "  print(\"Your are eligible to vote\")\n",
        "else:\n",
        "  print(\"You are not eligible to vote\")"
      ],
      "metadata": {
        "colab": {
          "base_uri": "https://localhost:8080/"
        },
        "id": "tfNG_JK6G3E7",
        "outputId": "81e562c0-11d0-47f7-94be-96d20b2fe914"
      },
      "execution_count": null,
      "outputs": [
        {
          "output_type": "stream",
          "name": "stdout",
          "text": [
            "Enter your age =22\n",
            "Your are eligible to vote\n"
          ]
        }
      ]
    },
    {
      "cell_type": "code",
      "source": [
        "# Ask the user for a number and check: - If it’s positive - If it’s negative - If it’s zero\n",
        "num = int(input(\"Enter your number =\"))\n",
        "if num > 0:\n",
        "  print(\"Number is positive\")\n",
        "elif num < 0:\n",
        "  print(\"Number is negative\")\n",
        "else:\n",
        "  print(\"Number is zero\")\n"
      ],
      "metadata": {
        "colab": {
          "base_uri": "https://localhost:8080/"
        },
        "id": "JcbUbcnGHTIm",
        "outputId": "c13b0752-58db-4fc1-f157-97e2ebf13fe0"
      },
      "execution_count": null,
      "outputs": [
        {
          "output_type": "stream",
          "name": "stdout",
          "text": [
            "Enter your number =-9\n",
            "Number is negative\n"
          ]
        }
      ]
    },
    {
      "cell_type": "markdown",
      "source": [
        "# 4: Loops"
      ],
      "metadata": {
        "id": "a7Bnf_QLH2RF"
      }
    },
    {
      "cell_type": "code",
      "source": [
        "# Print numbers from 1 to 10 using a `for` loop.\n",
        "for num in range(1,11):\n",
        "  print(num)"
      ],
      "metadata": {
        "colab": {
          "base_uri": "https://localhost:8080/"
        },
        "id": "ovHTqQuNH6Q5",
        "outputId": "d83a099e-0f7c-45e8-c1ed-3cfbd8eee15a"
      },
      "execution_count": null,
      "outputs": [
        {
          "output_type": "stream",
          "name": "stdout",
          "text": [
            "1\n",
            "2\n",
            "3\n",
            "4\n",
            "5\n",
            "6\n",
            "7\n",
            "8\n",
            "9\n",
            "10\n"
          ]
        }
      ]
    },
    {
      "cell_type": "code",
      "source": [
        "# Print the multiplication table of any number entered by the user.\n",
        "num = int(input(\"Enter your number\"))\n",
        "for number in range(1,11):\n",
        "  print(f\"{num}x{number} = {num*number}\")"
      ],
      "metadata": {
        "colab": {
          "base_uri": "https://localhost:8080/"
        },
        "id": "6UNGE96uIKEE",
        "outputId": "87da2ad9-ac62-4d24-a961-17c102a81f01"
      },
      "execution_count": null,
      "outputs": [
        {
          "output_type": "stream",
          "name": "stdout",
          "text": [
            "Enter your number2\n",
            "2x1 = 2\n",
            "2x2 = 4\n",
            "2x3 = 6\n",
            "2x4 = 8\n",
            "2x5 = 10\n",
            "2x6 = 12\n",
            "2x7 = 14\n",
            "2x8 = 16\n",
            "2x9 = 18\n",
            "2x10 = 20\n"
          ]
        }
      ]
    },
    {
      "cell_type": "code",
      "source": [
        "# Write a program that sums all numbers from 1 to n (user input) using a loop.\n",
        "n = int(input(\"Enter a number =\"))\n",
        "total = 0\n",
        "for num in range(1, n+1):\n",
        "  total+= num\n",
        "\n",
        "print(f\"The sum of numbers for 1 to {n} = {total}\")"
      ],
      "metadata": {
        "colab": {
          "base_uri": "https://localhost:8080/"
        },
        "id": "uUiJ0QMIIv0l",
        "outputId": "9c5c3cbe-19c8-4336-e517-cb9a43942a04"
      },
      "execution_count": null,
      "outputs": [
        {
          "output_type": "stream",
          "name": "stdout",
          "text": [
            "Enter a number =10\n",
            "The sum of numbers for 1 to 10 = 55\n"
          ]
        }
      ]
    },
    {
      "cell_type": "markdown",
      "source": [
        "# 5: Functions"
      ],
      "metadata": {
        "id": "lcyU1a2vKTXL"
      }
    },
    {
      "cell_type": "code",
      "source": [
        "# Write a function `greet(name)` that prints 'Hello, !'\n",
        "def greet(name):\n",
        "  print(f\"Hello {name}!\")\n",
        "#calling the function\n",
        "greet(\"Aroosa\")"
      ],
      "metadata": {
        "colab": {
          "base_uri": "https://localhost:8080/"
        },
        "id": "jCuldNC2Ld1v",
        "outputId": "3d2d7491-0c48-4172-cd60-8faef79a1a1f"
      },
      "execution_count": 17,
      "outputs": [
        {
          "output_type": "stream",
          "name": "stdout",
          "text": [
            "Hello Aroosa!\n"
          ]
        }
      ]
    },
    {
      "cell_type": "code",
      "source": [
        "# Write a function `is_prime(n)` that returns True if the number is prime, otherwise False.\n",
        "def is_prime(n):\n",
        "  if n<= 1:\n",
        "    return False\n",
        "  for i in range(2, int(n**0.5) + 1):\n",
        "    if n%i == 0:\n",
        "      return False\n",
        "    return True\n",
        "# calling the function\n",
        "print(is_prime(2))\n",
        "print(is_prime(10))\n",
        "print(is_prime(17))"
      ],
      "metadata": {
        "colab": {
          "base_uri": "https://localhost:8080/"
        },
        "id": "lGIR8_iaL6EN",
        "outputId": "614dad7f-f456-416d-92c2-108743042cc0"
      },
      "execution_count": 19,
      "outputs": [
        {
          "output_type": "stream",
          "name": "stdout",
          "text": [
            "None\n",
            "False\n",
            "True\n"
          ]
        }
      ]
    },
    {
      "cell_type": "markdown",
      "source": [
        "# 6: Lists"
      ],
      "metadata": {
        "id": "pDaLm6nINSMS"
      }
    },
    {
      "cell_type": "code",
      "source": [
        "# Create a list of 5 fruits and print the second and last fruit.\n",
        "fruits = [\"Apple\",\"Banana\",\"Cherry\",\"Mango\",\"Guava\"]\n",
        "print(fruits[1])\n",
        "print(fruits[-1])"
      ],
      "metadata": {
        "colab": {
          "base_uri": "https://localhost:8080/"
        },
        "id": "7VPTYBRiNZMu",
        "outputId": "f9b68cff-cdde-436b-e476-8f4ea13c1adf"
      },
      "execution_count": 27,
      "outputs": [
        {
          "output_type": "stream",
          "name": "stdout",
          "text": [
            "Banana\n",
            "Guava\n"
          ]
        }
      ]
    },
    {
      "cell_type": "code",
      "source": [
        "# Add a new fruit to the list, then remove the first fruit from the list.\n",
        "# adding a new fruit\n",
        "fruits.append(\"Grapes\")\n",
        "print(fruits)"
      ],
      "metadata": {
        "colab": {
          "base_uri": "https://localhost:8080/"
        },
        "id": "35Hc_U18OHRe",
        "outputId": "11235358-a45b-4b07-9402-138e31cc17fe"
      },
      "execution_count": 28,
      "outputs": [
        {
          "output_type": "stream",
          "name": "stdout",
          "text": [
            "['Apple', 'Banana', 'Cherry', 'Mango', 'Guava', 'Grapes']\n"
          ]
        }
      ]
    },
    {
      "cell_type": "code",
      "source": [
        "# removing the first fruit\n",
        "fruits.pop(0)\n",
        "print(fruits)"
      ],
      "metadata": {
        "colab": {
          "base_uri": "https://localhost:8080/"
        },
        "id": "z1jCD08QOa3x",
        "outputId": "5b982ec8-015b-4db1-ebea-db3b4d10f541"
      },
      "execution_count": 29,
      "outputs": [
        {
          "output_type": "stream",
          "name": "stdout",
          "text": [
            "['Banana', 'Cherry', 'Mango', 'Guava', 'Grapes']\n"
          ]
        }
      ]
    },
    {
      "cell_type": "code",
      "source": [
        "# Find the maximum and minimum number in a list of integers.\n",
        "numbers = [2,4,6,8,10]\n",
        "maximum = max(numbers)\n",
        "minimum = min(numbers)\n",
        "print(f\"The maximun number is {maximum} and the minimum number is {minimum}\")"
      ],
      "metadata": {
        "colab": {
          "base_uri": "https://localhost:8080/"
        },
        "id": "HoTOQMMAPJJC",
        "outputId": "7a8f4eeb-313f-41c0-e7a8-06bc36216bf0"
      },
      "execution_count": 30,
      "outputs": [
        {
          "output_type": "stream",
          "name": "stdout",
          "text": [
            "The maximun number is 10 and the minimum number is 2\n"
          ]
        }
      ]
    },
    {
      "cell_type": "markdown",
      "source": [
        "# 7: Dictionary"
      ],
      "metadata": {
        "id": "Hgwuo6YrP4KN"
      }
    },
    {
      "cell_type": "code",
      "source": [
        "# Create a dictionary with keys: 'name', 'age', 'city' and store your details. Print the dictionary.\n",
        "my_dict = {\"name\":\"Aroosa\",\"age\":24, \"city\":\"rawalpindi\"}\n",
        "print(my_dict)"
      ],
      "metadata": {
        "colab": {
          "base_uri": "https://localhost:8080/"
        },
        "id": "1Mz7kz1CP7Do",
        "outputId": "fed4e89b-8e55-4b42-f8d7-3c5011083f34"
      },
      "execution_count": 31,
      "outputs": [
        {
          "output_type": "stream",
          "name": "stdout",
          "text": [
            "{'name': 'Aroosa', 'age': 24, 'city': 'rawalpindi'}\n"
          ]
        }
      ]
    },
    {
      "cell_type": "code",
      "source": [
        "# Add a new key 'country' to the dictionary.\n",
        "my_dict[\"Country\"] = \"Pakistan\"\n",
        "print(my_dict)"
      ],
      "metadata": {
        "colab": {
          "base_uri": "https://localhost:8080/"
        },
        "id": "UY6IT7zEQTUE",
        "outputId": "53bb2912-2f36-4212-bd2a-877e6e628d28"
      },
      "execution_count": 32,
      "outputs": [
        {
          "output_type": "stream",
          "name": "stdout",
          "text": [
            "{'name': 'Aroosa', 'age': 24, 'city': 'rawalpindi', 'Country': 'Pakistan'}\n"
          ]
        }
      ]
    },
    {
      "cell_type": "code",
      "source": [
        "# Write a program to count the frequency of each character in a string and store the result in a dictionary.\n",
        "text = input(\"Enter your text:\")\n",
        "freq = {} # empty dictionary\n",
        "for char in text:\n",
        "  if char in freq:\n",
        "    freq[char] += 1\n",
        "  else:\n",
        "    freq[char] = 1\n",
        "\n",
        "print(f\"Frequency of each character: {freq}\")\n",
        "\n"
      ],
      "metadata": {
        "colab": {
          "base_uri": "https://localhost:8080/"
        },
        "id": "EfH3EWoAQ74m",
        "outputId": "61611818-10b2-4eed-acec-ea92aa53a863"
      },
      "execution_count": 35,
      "outputs": [
        {
          "output_type": "stream",
          "name": "stdout",
          "text": [
            "Enter your text:aroosa\n",
            "Frequency of each character: {'a': 2, 'r': 1, 'o': 2, 's': 1}\n"
          ]
        }
      ]
    },
    {
      "cell_type": "markdown",
      "source": [
        "# 8: Set"
      ],
      "metadata": {
        "id": "LGflleHCYLHY"
      }
    },
    {
      "cell_type": "code",
      "source": [
        "# Create two sets of numbers and: - Find their union - Find their intersection - Find the difference between them\n",
        "set1 = {1,2,3,4,5}\n",
        "set2 = {4,5,6,7,8}\n",
        "#union\n",
        "union_set = set1.union(set2)\n",
        "#intersection\n",
        "intersection_set = set1.intersection(set2)\n",
        "#difference\n",
        "difference_set = set1.difference(set2)\n",
        "print(f\"Set 1 ={set1}\")\n",
        "print(f\"Set 2={set2}\")\n",
        "print(f\"Union of set1 and set2 is: {union_set}\")\n",
        "print(f\"Intersection of set1 and set2 is: {intersection_set}\")\n",
        "print(f\"Difference of set1 and set is: {difference_set}\")"
      ],
      "metadata": {
        "colab": {
          "base_uri": "https://localhost:8080/"
        },
        "id": "5Zx3jRCYYNXN",
        "outputId": "28ebb8bd-eb10-469d-89bd-a5f642559361"
      },
      "execution_count": 36,
      "outputs": [
        {
          "output_type": "stream",
          "name": "stdout",
          "text": [
            "Set 1 ={1, 2, 3, 4, 5}\n",
            "Set 2={4, 5, 6, 7, 8}\n",
            "Union of set1 and set2 is: {1, 2, 3, 4, 5, 6, 7, 8}\n",
            "Intersection of set1 and set2 is: {4, 5}\n",
            "Difference of set1 and set is: {1, 2, 3}\n"
          ]
        }
      ]
    },
    {
      "cell_type": "code",
      "source": [
        "# Write a program to remove duplicates from a list using a set.\n",
        "numbers = [1,2,2,3,3,3,4,4,4,5,5,5,5]\n",
        "unique_numbers = list(set(numbers))\n",
        "print(f\"Original list = {numbers}\")\n",
        "print(f\"Unique numbers list = {unique_numbers}\")"
      ],
      "metadata": {
        "colab": {
          "base_uri": "https://localhost:8080/"
        },
        "id": "xDmJaPO_Zovv",
        "outputId": "147c3f46-72cb-4d62-ff56-c4499aee1f3e"
      },
      "execution_count": 37,
      "outputs": [
        {
          "output_type": "stream",
          "name": "stdout",
          "text": [
            "Original list = [1, 2, 2, 3, 3, 3, 4, 4, 4, 5, 5, 5, 5]\n",
            "Unique numbers list = [1, 2, 3, 4, 5]\n"
          ]
        }
      ]
    },
    {
      "cell_type": "markdown",
      "source": [
        "# 9: Tuples"
      ],
      "metadata": {
        "id": "RepIJ7qiaR66"
      }
    },
    {
      "cell_type": "code",
      "source": [
        "# Create a tuple with at least 5 numbers and print the first and last elements.\n",
        "numbers = (1,2,3,4,5,6)\n",
        "print(numbers[0]) # first element\n",
        "print(numbers[-1]) # last element"
      ],
      "metadata": {
        "colab": {
          "base_uri": "https://localhost:8080/"
        },
        "id": "J410WE0FaW-_",
        "outputId": "e0ac5040-1711-487b-a757-b04c47599f38"
      },
      "execution_count": 38,
      "outputs": [
        {
          "output_type": "stream",
          "name": "stdout",
          "text": [
            "1\n",
            "6\n"
          ]
        }
      ]
    },
    {
      "cell_type": "code",
      "source": [
        "# Write a program to check if a given element exists in a tuple.\n",
        "my_tuple = (10,20,30,40,50)\n",
        "element = int(input(\"Enter your element=\"))\n",
        "if element in my_tuple:\n",
        "  print(f\"{element} exists in my_tuple\")\n",
        "else:\n",
        "  print(f\"{element} does not exist in my_tuple\")"
      ],
      "metadata": {
        "colab": {
          "base_uri": "https://localhost:8080/"
        },
        "id": "sIdfOKAobsqI",
        "outputId": "fde0d0ba-70d2-4ed8-8f0c-1f4fe6dd9475"
      },
      "execution_count": 40,
      "outputs": [
        {
          "output_type": "stream",
          "name": "stdout",
          "text": [
            "Enter your element=24\n",
            "24 does not exist in my_tuple\n"
          ]
        }
      ]
    },
    {
      "cell_type": "markdown",
      "source": [
        "# 10: Exception Handling"
      ],
      "metadata": {
        "id": "SFBXUtebch4W"
      }
    },
    {
      "cell_type": "code",
      "source": [
        "#  Write a program to divide two numbers, but handle the ZeroDivisionError.\n",
        "try:\n",
        "  a = int(input(\"Enter first number =\"))\n",
        "  b = int(input(\"Enter second number =\"))\n",
        "  result = a/b\n",
        "  print(f\"The result of {a}/{b} = {result}\")\n",
        "except ZeroDivisionError:\n",
        "  print(\"Error: Division by zero is not allowed\")\n"
      ],
      "metadata": {
        "colab": {
          "base_uri": "https://localhost:8080/"
        },
        "id": "-aDrkA8Scm5X",
        "outputId": "7ef7a0c9-4bbf-4253-f8fd-72ae3cd040d1"
      },
      "execution_count": 41,
      "outputs": [
        {
          "output_type": "stream",
          "name": "stdout",
          "text": [
            "Enter first number =25\n",
            "Enter second number =5\n",
            "The result of 25/5 = 5.0\n"
          ]
        }
      ]
    },
    {
      "cell_type": "code",
      "source": [
        "# Write a program that asks for a number from the user, and handles the case when the user enters something that is not a number (ValueError).\n",
        "try:\n",
        "  number = int(input(\"Enter a number =\"))\n",
        "  print(\"You entered\", number)\n",
        "except ValueError:\n",
        "  print(\"Error: That is not a valid number\")"
      ],
      "metadata": {
        "colab": {
          "base_uri": "https://localhost:8080/"
        },
        "id": "FX52fh5GdlTn",
        "outputId": "690e7211-7971-467d-9099-5ee1e2929903"
      },
      "execution_count": 43,
      "outputs": [
        {
          "output_type": "stream",
          "name": "stdout",
          "text": [
            "Enter a number =h\n",
            "Error: That is not a valid number\n"
          ]
        }
      ]
    }
  ]
}