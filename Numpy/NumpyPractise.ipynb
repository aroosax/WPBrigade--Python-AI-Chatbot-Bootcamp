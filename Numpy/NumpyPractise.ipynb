{
  "nbformat": 4,
  "nbformat_minor": 0,
  "metadata": {
    "colab": {
      "provenance": []
    },
    "kernelspec": {
      "name": "python3",
      "display_name": "Python 3"
    },
    "language_info": {
      "name": "python"
    }
  },
  "cells": [
    {
      "cell_type": "markdown",
      "source": [
        "# Numpy Basics"
      ],
      "metadata": {
        "id": "EhUAtX9lAAK7"
      }
    },
    {
      "cell_type": "code",
      "execution_count": null,
      "metadata": {
        "colab": {
          "base_uri": "https://localhost:8080/"
        },
        "id": "ZGn9gNwI_1pq",
        "outputId": "9b4bb65d-36d1-4991-d2ff-dcf5630f7b7f"
      },
      "outputs": [
        {
          "output_type": "stream",
          "name": "stdout",
          "text": [
            "[1 2 3 4]\n",
            "[[0. 0. 0.]\n",
            " [0. 0. 0.]]\n",
            "[[1. 1. 1.]\n",
            " [1. 1. 1.]\n",
            " [1. 1. 1.]]\n",
            "[ 0  2  4  6  8 10]\n",
            "[0.   0.25 0.5  0.75 1.  ]\n"
          ]
        }
      ],
      "source": [
        "import numpy as np\n",
        "\n",
        "#creating different arrays\n",
        "arr1 = np.array([1,2,3,4])      #from python list\n",
        "arr2 = np.zeros((2,3))          #2x3 arrays of zero\n",
        "arr3 = np.ones((3,3))           #3x3 array of one\n",
        "arr4 = np.arange(0,11,2)       # arrange array that is from 0 to 11 and take 2 steps\n",
        "arr5 = np.linspace(0,1,5)       # take 5 numbers between 0 and 1\n",
        "\n",
        "print(arr1)\n",
        "print(arr2)\n",
        "print(arr3)\n",
        "print(arr4)\n",
        "print(arr5)"
      ]
    },
    {
      "cell_type": "code",
      "source": [
        "#array properties\n",
        "arr = np.array([[[1,1],[2,2],[3,3]]])\n",
        "print(\"Shape=\",arr.shape)      #shape of the array rows and columns in the output the 1 shows layer 3 shows rows and 2 shows columns\n",
        "print(\"Dimensions=\",arr.ndim)  # shows the dimension of the array\n",
        "print(\"Size=\",arr.size)        # prints how many elements are there in the array"
      ],
      "metadata": {
        "colab": {
          "base_uri": "https://localhost:8080/"
        },
        "id": "oVjeyFgMpOKh",
        "outputId": "f1065bed-dff8-46f8-8fd9-d44e3aab2de6"
      },
      "execution_count": null,
      "outputs": [
        {
          "output_type": "stream",
          "name": "stdout",
          "text": [
            "Shape= (1, 3, 2)\n",
            "Dimensions= 3\n",
            "Size= 6\n"
          ]
        }
      ]
    },
    {
      "cell_type": "code",
      "source": [
        "#indexing\n",
        "print(arr)\n",
        "print(arr[0,2,0]) # first 0 means layers 2 means 3rd row and 0 means column\n",
        "print(arr[:, 1])  # all layers and 2nd row\n",
        "print(arr[0, :])  # first layer and all rows"
      ],
      "metadata": {
        "colab": {
          "base_uri": "https://localhost:8080/"
        },
        "id": "1gCon860qVd-",
        "outputId": "6961f684-63ff-414b-b29c-4eed0152ba02"
      },
      "execution_count": null,
      "outputs": [
        {
          "output_type": "stream",
          "name": "stdout",
          "text": [
            "[[[1 1]\n",
            "  [2 2]\n",
            "  [3 3]]]\n",
            "3\n",
            "[[2 2]]\n",
            "[[1 1]\n",
            " [2 2]\n",
            " [3 3]]\n"
          ]
        }
      ]
    },
    {
      "cell_type": "code",
      "source": [
        "# mathematical operations\n",
        "a = np.array([[1,2,3],[1,2,3]])\n",
        "b = np.array([[4,5,6],[4,5,6]])\n",
        "\n",
        "print(a+b) #addition\n",
        "print(a-b) #Subtraction\n",
        "print(a*b) #multiplication\n",
        "print(a/b) #division\n",
        "print(np.dot(a,b.T)) #dot product also we took transpose of b\n",
        "# Random numbers\n",
        "print(np.random.rand(2,5)) #printing random numbers 2 rows and 5 columns"
      ],
      "metadata": {
        "colab": {
          "base_uri": "https://localhost:8080/"
        },
        "id": "EOiRODx5sZib",
        "outputId": "4775ce84-e51b-4a29-c7e6-3d5a33b83ba7"
      },
      "execution_count": null,
      "outputs": [
        {
          "output_type": "stream",
          "name": "stdout",
          "text": [
            "[[5 7 9]\n",
            " [5 7 9]]\n",
            "[[-3 -3 -3]\n",
            " [-3 -3 -3]]\n",
            "[[ 4 10 18]\n",
            " [ 4 10 18]]\n",
            "[[0.25 0.4  0.5 ]\n",
            " [0.25 0.4  0.5 ]]\n",
            "[[32 32]\n",
            " [32 32]]\n",
            "[[0.0639735  0.31234727 0.33301946 0.10952572 0.52329409]\n",
            " [0.28429898 0.26894581 0.8810353  0.08714112 0.05657875]]\n"
          ]
        }
      ]
    },
    {
      "cell_type": "code",
      "source": [
        "# reshaping arrays\n",
        "arr = np.arange(12)\n",
        "print(arr.reshape(4,3))"
      ],
      "metadata": {
        "colab": {
          "base_uri": "https://localhost:8080/"
        },
        "id": "UrMNuWhytycQ",
        "outputId": "12d422aa-19ef-45d7-ba15-a2a5a1371cb6"
      },
      "execution_count": null,
      "outputs": [
        {
          "output_type": "stream",
          "name": "stdout",
          "text": [
            "[[ 0  1  2]\n",
            " [ 3  4  5]\n",
            " [ 6  7  8]\n",
            " [ 9 10 11]]\n"
          ]
        }
      ]
    },
    {
      "cell_type": "markdown",
      "source": [
        "# Numpy self practice"
      ],
      "metadata": {
        "id": "DXre7H-yyVYl"
      }
    },
    {
      "cell_type": "code",
      "source": [
        "# import numpy library\n",
        "import numpy as np"
      ],
      "metadata": {
        "id": "6fK-fnHMybfU"
      },
      "execution_count": null,
      "outputs": []
    },
    {
      "cell_type": "code",
      "source": [
        "#array of 6 elements\n",
        "np.arange(6)"
      ],
      "metadata": {
        "colab": {
          "base_uri": "https://localhost:8080/"
        },
        "id": "ptAdfCNyykUI",
        "outputId": "1dcc2e48-4f7f-448b-f0b3-2f6ad0baf93d"
      },
      "execution_count": null,
      "outputs": [
        {
          "output_type": "execute_result",
          "data": {
            "text/plain": [
              "array([0, 1, 2, 3, 4, 5])"
            ]
          },
          "metadata": {},
          "execution_count": 32
        }
      ]
    },
    {
      "cell_type": "code",
      "source": [
        "a = np.arange(6)\n",
        "print(a)\n",
        "print(a.shape) # shows rowns and columns"
      ],
      "metadata": {
        "colab": {
          "base_uri": "https://localhost:8080/"
        },
        "id": "U4Hsq0a7y0xs",
        "outputId": "07fc7b11-f64a-4d6b-8b33-8220041bb219"
      },
      "execution_count": null,
      "outputs": [
        {
          "output_type": "stream",
          "name": "stdout",
          "text": [
            "[0 1 2 3 4 5]\n",
            "(6,)\n"
          ]
        }
      ]
    },
    {
      "cell_type": "code",
      "source": [
        "q_2 = a[np.newaxis, :] #gives a a new dimension to the existing set\n",
        "print(q_2)\n",
        "print(q_2.shape)"
      ],
      "metadata": {
        "colab": {
          "base_uri": "https://localhost:8080/"
        },
        "id": "CQAtTZFyzPv2",
        "outputId": "55ac5bde-351b-4bcf-c28d-e9084fe66017"
      },
      "execution_count": null,
      "outputs": [
        {
          "output_type": "stream",
          "name": "stdout",
          "text": [
            "[[0 1 2 3 4 5]]\n",
            "(1, 6)\n"
          ]
        }
      ]
    },
    {
      "cell_type": "code",
      "source": [
        "# create array\n",
        "arr1 = np.array([1,2,3,4,5,6]) # 1Dimension array\n",
        "arr2 = np.array([[1,2,3],[4,5,6]]) # 2Dimension array\n",
        "print(\"1D array:\",arr1.shape)\n",
        "print(arr1)\n",
        "print(\"2D array:\",arr2.shape)\n",
        "print(arr2)"
      ],
      "metadata": {
        "colab": {
          "base_uri": "https://localhost:8080/"
        },
        "id": "bkcJFP83z8QD",
        "outputId": "ec881097-b7a9-4cab-f61d-3e40f2170a59"
      },
      "execution_count": null,
      "outputs": [
        {
          "output_type": "stream",
          "name": "stdout",
          "text": [
            "1D array: (6,)\n",
            "[1 2 3 4 5 6]\n",
            "2D array: (2, 3)\n",
            "[[1 2 3]\n",
            " [4 5 6]]\n"
          ]
        }
      ]
    },
    {
      "cell_type": "code",
      "source": [
        "# checking type\n",
        "type(arr1)"
      ],
      "metadata": {
        "colab": {
          "base_uri": "https://localhost:8080/"
        },
        "id": "ZsYOZjTL04S7",
        "outputId": "97f4d736-629f-4c8f-88b0-7dd2620f1952"
      },
      "execution_count": null,
      "outputs": [
        {
          "output_type": "execute_result",
          "data": {
            "text/plain": [
              "numpy.ndarray"
            ]
          },
          "metadata": {},
          "execution_count": 43
        }
      ]
    },
    {
      "cell_type": "code",
      "source": [
        "# initialize a zero array\n",
        "zero = np.zeros((2,3))\n",
        "print(zero)"
      ],
      "metadata": {
        "colab": {
          "base_uri": "https://localhost:8080/"
        },
        "id": "do5WAlHK1C_E",
        "outputId": "48ffa610-00e9-4798-d859-413ca1762b61"
      },
      "execution_count": null,
      "outputs": [
        {
          "output_type": "stream",
          "name": "stdout",
          "text": [
            "[[0. 0. 0.]\n",
            " [0. 0. 0.]]\n"
          ]
        }
      ]
    },
    {
      "cell_type": "code",
      "source": [
        "# initializing a ones array\n",
        "one = np.ones((2,3))\n",
        "one"
      ],
      "metadata": {
        "colab": {
          "base_uri": "https://localhost:8080/"
        },
        "id": "lzBr_EuC2Ukh",
        "outputId": "8d19d8d6-8ff1-4d12-dee3-04a34074f0da"
      },
      "execution_count": null,
      "outputs": [
        {
          "output_type": "execute_result",
          "data": {
            "text/plain": [
              "array([[1., 1., 1.],\n",
              "       [1., 1., 1.]])"
            ]
          },
          "metadata": {},
          "execution_count": 48
        }
      ]
    },
    {
      "cell_type": "code",
      "source": [
        "# full array\n",
        "full = np.full((2,3),2) # this shows that the array is 2x3 and all the values are supposed to be 2\n",
        "full"
      ],
      "metadata": {
        "colab": {
          "base_uri": "https://localhost:8080/"
        },
        "id": "O6TgZ1PB2cPb",
        "outputId": "33735cd3-560c-42aa-e46e-bd681e8d2f2e"
      },
      "execution_count": null,
      "outputs": [
        {
          "output_type": "execute_result",
          "data": {
            "text/plain": [
              "array([[2, 2, 2],\n",
              "       [2, 2, 2]])"
            ]
          },
          "metadata": {},
          "execution_count": 54
        }
      ]
    },
    {
      "cell_type": "code",
      "source": [
        "# checking the datatype of full\n",
        "full.dtype"
      ],
      "metadata": {
        "colab": {
          "base_uri": "https://localhost:8080/"
        },
        "id": "llw_hpBJ3dFP",
        "outputId": "55cf97a1-5ce8-406c-a989-32ced9dc8f41"
      },
      "execution_count": null,
      "outputs": [
        {
          "output_type": "execute_result",
          "data": {
            "text/plain": [
              "dtype('int64')"
            ]
          },
          "metadata": {},
          "execution_count": 59
        }
      ]
    },
    {
      "cell_type": "code",
      "source": [
        "# type\n",
        "type(full)"
      ],
      "metadata": {
        "colab": {
          "base_uri": "https://localhost:8080/"
        },
        "id": "0q5WuTDr3qtZ",
        "outputId": "b8ef7ca0-8d5a-497b-d5d1-801b6c40b1d1"
      },
      "execution_count": null,
      "outputs": [
        {
          "output_type": "execute_result",
          "data": {
            "text/plain": [
              "numpy.ndarray"
            ]
          },
          "metadata": {},
          "execution_count": 60
        }
      ]
    },
    {
      "cell_type": "code",
      "source": [
        "# making an identity matrix\n",
        "identity = np.eye(3) # 3x3 identity matrix\n",
        "identity"
      ],
      "metadata": {
        "colab": {
          "base_uri": "https://localhost:8080/"
        },
        "id": "umVxLJxH31zf",
        "outputId": "835ed802-e380-48b1-83d9-0ddf2bb851eb"
      },
      "execution_count": null,
      "outputs": [
        {
          "output_type": "execute_result",
          "data": {
            "text/plain": [
              "array([[1., 0., 0.],\n",
              "       [0., 1., 0.],\n",
              "       [0., 0., 1.]])"
            ]
          },
          "metadata": {},
          "execution_count": 61
        }
      ]
    },
    {
      "cell_type": "code",
      "source": [
        "# data type\n",
        "identity.dtype"
      ],
      "metadata": {
        "colab": {
          "base_uri": "https://localhost:8080/"
        },
        "id": "-tjhzj5j4Jm3",
        "outputId": "de92a57b-a197-4979-8038-dd7f82b296ea"
      },
      "execution_count": null,
      "outputs": [
        {
          "output_type": "execute_result",
          "data": {
            "text/plain": [
              "dtype('float64')"
            ]
          },
          "metadata": {},
          "execution_count": 62
        }
      ]
    },
    {
      "cell_type": "code",
      "source": [
        "#type\n",
        "type(identity)"
      ],
      "metadata": {
        "colab": {
          "base_uri": "https://localhost:8080/"
        },
        "id": "1NWKUpCI4R3k",
        "outputId": "e0b65bd1-608d-4b97-8542-293938dd4756"
      },
      "execution_count": null,
      "outputs": [
        {
          "output_type": "execute_result",
          "data": {
            "text/plain": [
              "numpy.ndarray"
            ]
          },
          "metadata": {},
          "execution_count": 63
        }
      ]
    },
    {
      "cell_type": "markdown",
      "source": [
        "# Attributes of array"
      ],
      "metadata": {
        "id": "G--ghF4-40M9"
      }
    },
    {
      "cell_type": "code",
      "source": [
        "# Shape of array\n",
        "identity.shape"
      ],
      "metadata": {
        "colab": {
          "base_uri": "https://localhost:8080/"
        },
        "id": "Lk5RhSLe4XAa",
        "outputId": "53f2a402-b5e7-4b43-f41a-5d22d7e5b108"
      },
      "execution_count": null,
      "outputs": [
        {
          "output_type": "execute_result",
          "data": {
            "text/plain": [
              "(3, 3)"
            ]
          },
          "metadata": {},
          "execution_count": 64
        }
      ]
    },
    {
      "cell_type": "code",
      "source": [
        "# length of array\n",
        "len(identity)"
      ],
      "metadata": {
        "colab": {
          "base_uri": "https://localhost:8080/"
        },
        "id": "hFmCbQNb45S-",
        "outputId": "6ac2d2ba-6658-43e2-c46e-2772fe98c2b4"
      },
      "execution_count": null,
      "outputs": [
        {
          "output_type": "execute_result",
          "data": {
            "text/plain": [
              "3"
            ]
          },
          "metadata": {},
          "execution_count": 65
        }
      ]
    },
    {
      "cell_type": "code",
      "source": [
        "# dimension of the array\n",
        "identity.ndim"
      ],
      "metadata": {
        "colab": {
          "base_uri": "https://localhost:8080/"
        },
        "id": "DLyAArkd5AkD",
        "outputId": "0b8dc095-0f17-4c92-c2e3-96fdbf4c82fd"
      },
      "execution_count": null,
      "outputs": [
        {
          "output_type": "execute_result",
          "data": {
            "text/plain": [
              "2"
            ]
          },
          "metadata": {},
          "execution_count": 67
        }
      ]
    },
    {
      "cell_type": "code",
      "source": [
        "# size of the array\n",
        "identity.size"
      ],
      "metadata": {
        "colab": {
          "base_uri": "https://localhost:8080/"
        },
        "id": "3VqIYD5N5LOx",
        "outputId": "65282b00-bc30-4b07-a30e-0df1c1e6371f"
      },
      "execution_count": null,
      "outputs": [
        {
          "output_type": "execute_result",
          "data": {
            "text/plain": [
              "9"
            ]
          },
          "metadata": {},
          "execution_count": 68
        }
      ]
    },
    {
      "cell_type": "code",
      "source": [
        "# most of the operations are done above the left are done here\n",
        "a=np.arange(5)\n",
        "b=a**2 # element wise squaring\n",
        "print(b)"
      ],
      "metadata": {
        "colab": {
          "base_uri": "https://localhost:8080/"
        },
        "id": "qLKci1uJ5ei6",
        "outputId": "5cffb9db-e90a-44d6-ee57-5db7f05bfe99"
      },
      "execution_count": null,
      "outputs": [
        {
          "output_type": "stream",
          "name": "stdout",
          "text": [
            "[ 0  1  4  9 16]\n"
          ]
        }
      ]
    },
    {
      "cell_type": "code",
      "source": [
        "# empty array\n",
        "empty = np.empty((2,3))\n",
        "print(empty)"
      ],
      "metadata": {
        "colab": {
          "base_uri": "https://localhost:8080/"
        },
        "id": "c2XImpZv5sJU",
        "outputId": "90c03edb-2146-4e41-b11d-73c9beb4b13b"
      },
      "execution_count": null,
      "outputs": [
        {
          "output_type": "stream",
          "name": "stdout",
          "text": [
            "[[0.00e+000 4.94e-324 1.98e-323]\n",
            " [4.45e-323 7.91e-323 1.24e-322]]\n"
          ]
        }
      ]
    },
    {
      "cell_type": "code",
      "source": [
        "# access first row\n",
        "print(empty[0])"
      ],
      "metadata": {
        "colab": {
          "base_uri": "https://localhost:8080/"
        },
        "id": "MAM_a_Gz5-9g",
        "outputId": "88bd29f8-6597-4399-97c1-59670b3290d3"
      },
      "execution_count": null,
      "outputs": [
        {
          "output_type": "stream",
          "name": "stdout",
          "text": [
            "[0.e+000 5.e-324 2.e-323]\n"
          ]
        }
      ]
    },
    {
      "cell_type": "code",
      "source": [
        "# arrange the array from 6 to 18 and take 2 steps\n",
        "np.arange(6,18,2)"
      ],
      "metadata": {
        "colab": {
          "base_uri": "https://localhost:8080/"
        },
        "id": "BUAe8z_T6SAp",
        "outputId": "b86589a9-9126-437e-9432-34b46f60f1fc"
      },
      "execution_count": null,
      "outputs": [
        {
          "output_type": "execute_result",
          "data": {
            "text/plain": [
              "array([ 6,  8, 10, 12, 14, 16])"
            ]
          },
          "metadata": {},
          "execution_count": 75
        }
      ]
    },
    {
      "cell_type": "code",
      "source": [
        "# array of odd numbers\n",
        "odd_numbers = np.arange(1,20,2) # it goes from 1 to 20 and takes 2 steps at a time\n",
        "print(odd_numbers)"
      ],
      "metadata": {
        "colab": {
          "base_uri": "https://localhost:8080/"
        },
        "id": "nsvllZpd6hPG",
        "outputId": "044870db-a808-4fd9-bc9c-0434c42e3962"
      },
      "execution_count": null,
      "outputs": [
        {
          "output_type": "stream",
          "name": "stdout",
          "text": [
            "[ 1  3  5  7  9 11 13 15 17 19]\n"
          ]
        }
      ]
    },
    {
      "cell_type": "code",
      "source": [
        "# difference between numbers\n",
        "difference = np.arange(1,20,0.5) # takes numbers from 1 to 20 and takes a step of 0.5\n",
        "print(difference)"
      ],
      "metadata": {
        "colab": {
          "base_uri": "https://localhost:8080/"
        },
        "id": "GyqxTS8K63iP",
        "outputId": "10e16f05-10f8-48f2-96c7-2c0237a50ff8"
      },
      "execution_count": null,
      "outputs": [
        {
          "output_type": "stream",
          "name": "stdout",
          "text": [
            "[ 1.   1.5  2.   2.5  3.   3.5  4.   4.5  5.   5.5  6.   6.5  7.   7.5\n",
            "  8.   8.5  9.   9.5 10.  10.5 11.  11.5 12.  12.5 13.  13.5 14.  14.5\n",
            " 15.  15.5 16.  16.5 17.  17.5 18.  18.5 19.  19.5]\n"
          ]
        }
      ]
    },
    {
      "cell_type": "code",
      "source": [
        "#linespace (linear trends # between two numbers)\n",
        "lin = np.linspace(1, 10, 5) # the numbers are from 1 to 10 and we need to take 5 steps at a time\n",
        "print(lin)"
      ],
      "metadata": {
        "colab": {
          "base_uri": "https://localhost:8080/"
        },
        "id": "6QPcRNM17cNF",
        "outputId": "284480aa-0451-49ca-85fd-f57ce2b9a71b"
      },
      "execution_count": null,
      "outputs": [
        {
          "output_type": "stream",
          "name": "stdout",
          "text": [
            "[ 1.    3.25  5.5   7.75 10.  ]\n"
          ]
        }
      ]
    },
    {
      "cell_type": "code",
      "source": [
        "lin = np.linspace(0, -10,5, endpoint=False)\n",
        "print(lin)"
      ],
      "metadata": {
        "colab": {
          "base_uri": "https://localhost:8080/"
        },
        "id": "2ciJ7AEc71U3",
        "outputId": "47d10de8-8222-405b-9a65-7aecb0b44030"
      },
      "execution_count": null,
      "outputs": [
        {
          "output_type": "stream",
          "name": "stdout",
          "text": [
            "[ 0. -2. -4. -6. -8.]\n"
          ]
        }
      ]
    },
    {
      "cell_type": "code",
      "source": [
        "# specify datatype of array\n",
        "x = np.array([1,2,3,4,5,6],dtype=np.float64) # 1D array with float64 datatype\n",
        "print(x)\n"
      ],
      "metadata": {
        "colab": {
          "base_uri": "https://localhost:8080/"
        },
        "id": "xrfVhUCI8Woj",
        "outputId": "12d6efc0-8543-4c57-b6d9-e7cb61937287"
      },
      "execution_count": null,
      "outputs": [
        {
          "output_type": "stream",
          "name": "stdout",
          "text": [
            "[1. 2. 3. 4. 5. 6.]\n"
          ]
        }
      ]
    },
    {
      "cell_type": "code",
      "source": [
        "y = np.arange(6, dtype=np.int64) #0D array with int64 datatype\n",
        "print(y)"
      ],
      "metadata": {
        "colab": {
          "base_uri": "https://localhost:8080/"
        },
        "id": "hjE2k65p8zNL",
        "outputId": "4b4ca5a1-af53-4c01-9b4c-2c78765c8895"
      },
      "execution_count": null,
      "outputs": [
        {
          "output_type": "stream",
          "name": "stdout",
          "text": [
            "[0 1 2 3 4 5]\n"
          ]
        }
      ]
    },
    {
      "cell_type": "code",
      "source": [
        "# sort an array\n",
        "sorted_array = np.sort(y)\n",
        "print(sorted_array)"
      ],
      "metadata": {
        "colab": {
          "base_uri": "https://localhost:8080/"
        },
        "id": "EkLg-Uta9Lul",
        "outputId": "d8f2d551-f93b-4ba0-82d3-eaa91c6c74ff"
      },
      "execution_count": null,
      "outputs": [
        {
          "output_type": "stream",
          "name": "stdout",
          "text": [
            "[0 1 2 3 4 5]\n"
          ]
        }
      ]
    },
    {
      "cell_type": "code",
      "source": [
        "# concatenate arrays\n",
        "a = np.array([1,2,3])\n",
        "b= np.array([4,5,6])\n",
        "c = np.concatenate((a,b))\n",
        "print(c)"
      ],
      "metadata": {
        "colab": {
          "base_uri": "https://localhost:8080/"
        },
        "id": "HBC5RAaa9stD",
        "outputId": "db733aab-d82b-4a6a-a384-44efd0fbc051"
      },
      "execution_count": null,
      "outputs": [
        {
          "output_type": "stream",
          "name": "stdout",
          "text": [
            "[1 2 3 4 5 6]\n"
          ]
        }
      ]
    },
    {
      "cell_type": "code",
      "source": [
        "# concatenate arrays\n",
        "x = np.array([[1,2,3],[4,5,6]])\n",
        "y= np.array([[7,8,9]])\n",
        "z = np.concatenate((x,y), axis=0)\n",
        "print(z)"
      ],
      "metadata": {
        "colab": {
          "base_uri": "https://localhost:8080/"
        },
        "id": "Mo0SoY6A_UTd",
        "outputId": "ac8eb88d-0c59-4a6d-b1d4-ab817b117641"
      },
      "execution_count": null,
      "outputs": [
        {
          "output_type": "stream",
          "name": "stdout",
          "text": [
            "[[1 2 3]\n",
            " [4 5 6]\n",
            " [7 8 9]]\n"
          ]
        }
      ]
    },
    {
      "cell_type": "code",
      "source": [
        "# concatenate arrays\n",
        "i = np.array([[1,2,3],[4,5,6]])\n",
        "j = np.array([[7,8,9],[1,2,3]])\n",
        "k = np.concatenate((i,j),axis=0)\n",
        "print(k)"
      ],
      "metadata": {
        "colab": {
          "base_uri": "https://localhost:8080/"
        },
        "id": "-_kL9QDOARRP",
        "outputId": "745bf211-6acd-4a16-b636-5f246135dc36"
      },
      "execution_count": null,
      "outputs": [
        {
          "output_type": "stream",
          "name": "stdout",
          "text": [
            "[[1 2 3]\n",
            " [4 5 6]\n",
            " [7 8 9]\n",
            " [1 2 3]]\n"
          ]
        }
      ]
    },
    {
      "cell_type": "code",
      "source": [
        "# 3d array\n",
        "l = np.array([[[1,2,3],[4,5,6]],\n",
        "             [[7,8,9],[10,11,12]],\n",
        "             [[13,14,15],[16,17,18]]]\n",
        ")\n",
        "print(l)"
      ],
      "metadata": {
        "colab": {
          "base_uri": "https://localhost:8080/"
        },
        "id": "3MYrCPqYAv7F",
        "outputId": "40517f21-4523-4181-c4ab-003bf041482d"
      },
      "execution_count": null,
      "outputs": [
        {
          "output_type": "stream",
          "name": "stdout",
          "text": [
            "[[[ 1  2  3]\n",
            "  [ 4  5  6]]\n",
            "\n",
            " [[ 7  8  9]\n",
            "  [10 11 12]]\n",
            "\n",
            " [[13 14 15]\n",
            "  [16 17 18]]]\n"
          ]
        }
      ]
    },
    {
      "cell_type": "code",
      "source": [
        "len(l)"
      ],
      "metadata": {
        "colab": {
          "base_uri": "https://localhost:8080/"
        },
        "id": "WjoWNmvdBWc0",
        "outputId": "940c099b-c00d-4974-8402-e5a7d587dc6a"
      },
      "execution_count": null,
      "outputs": [
        {
          "output_type": "execute_result",
          "data": {
            "text/plain": [
              "3"
            ]
          },
          "metadata": {},
          "execution_count": 101
        }
      ]
    },
    {
      "cell_type": "code",
      "source": [
        "l.shape"
      ],
      "metadata": {
        "colab": {
          "base_uri": "https://localhost:8080/"
        },
        "id": "D_Tie_5KBbxP",
        "outputId": "8d1f1400-16c0-4ded-d3a4-2490f4f3ca79"
      },
      "execution_count": null,
      "outputs": [
        {
          "output_type": "execute_result",
          "data": {
            "text/plain": [
              "(3, 2, 3)"
            ]
          },
          "metadata": {},
          "execution_count": 102
        }
      ]
    },
    {
      "cell_type": "code",
      "source": [
        "l.size"
      ],
      "metadata": {
        "colab": {
          "base_uri": "https://localhost:8080/"
        },
        "id": "fi2Di7e9BgiS",
        "outputId": "269e966f-f3ec-44fa-879b-3c79334a50a9"
      },
      "execution_count": null,
      "outputs": [
        {
          "output_type": "execute_result",
          "data": {
            "text/plain": [
              "18"
            ]
          },
          "metadata": {},
          "execution_count": 103
        }
      ]
    },
    {
      "cell_type": "code",
      "source": [
        "#reshape array\n",
        "n= np.array([1,2,3,4,5,6,7,8,9,10,11,12]) #1d array\n",
        "m = np.reshape(n,(3,4)) # reshape into 3 rows and 4 columns\n",
        "print(m)"
      ],
      "metadata": {
        "colab": {
          "base_uri": "https://localhost:8080/"
        },
        "id": "aXQ1A4wQBiLg",
        "outputId": "ae420271-ec15-41a1-8fee-01e8a78c11a0"
      },
      "execution_count": null,
      "outputs": [
        {
          "output_type": "stream",
          "name": "stdout",
          "text": [
            "[[ 1  2  3  4]\n",
            " [ 5  6  7  8]\n",
            " [ 9 10 11 12]]\n"
          ]
        }
      ]
    },
    {
      "cell_type": "code",
      "source": [
        "# reshaping\n",
        "np.reshape(l,(3,3,2))"
      ],
      "metadata": {
        "colab": {
          "base_uri": "https://localhost:8080/"
        },
        "id": "L0JgsDe4CfAY",
        "outputId": "97f9fc4c-f92f-4c7e-e9cd-6721c1e97989"
      },
      "execution_count": null,
      "outputs": [
        {
          "output_type": "execute_result",
          "data": {
            "text/plain": [
              "array([[[ 1,  2],\n",
              "        [ 3,  4],\n",
              "        [ 5,  6]],\n",
              "\n",
              "       [[ 7,  8],\n",
              "        [ 9, 10],\n",
              "        [11, 12]],\n",
              "\n",
              "       [[13, 14],\n",
              "        [15, 16],\n",
              "        [17, 18]]])"
            ]
          },
          "metadata": {},
          "execution_count": 110
        }
      ]
    },
    {
      "cell_type": "code",
      "source": [
        "# convert into 2d array\n",
        "l_2d = l.reshape(-1,2) # this makes sure that the row size becomes default that is 1 and column size becomes 2\n",
        "print(l_2d)"
      ],
      "metadata": {
        "colab": {
          "base_uri": "https://localhost:8080/"
        },
        "id": "braFCVqKC2nK",
        "outputId": "1cdaf8cf-1e8d-47f1-e533-acebadafb7c0"
      },
      "execution_count": null,
      "outputs": [
        {
          "output_type": "stream",
          "name": "stdout",
          "text": [
            "[[ 1  2]\n",
            " [ 3  4]\n",
            " [ 5  6]\n",
            " [ 7  8]\n",
            " [ 9 10]\n",
            " [11 12]\n",
            " [13 14]\n",
            " [15 16]\n",
            " [17 18]]\n"
          ]
        }
      ]
    },
    {
      "cell_type": "code",
      "source": [
        "# indexing and slicing\n",
        "a = np.array([1,2,3,4,5,6])\n",
        "#accessing elements\n",
        "print(a[0]) # first element\n",
        "print(a[1]) # second element\n",
        "print(a[-1]) # last element\n",
        "# slicing\n",
        "print(a[1:4]) # printing elements from index 1 to 3(exclusive of 4)\n",
        "print(a[:3]) # printing the first 3 elements\n",
        "print(a[3:]) # printing elements from index 3 to the end\n",
        "# Boolean indexing\n",
        "b = a > 3 # boolean array where elements are greater then 3\n",
        "print(b)"
      ],
      "metadata": {
        "colab": {
          "base_uri": "https://localhost:8080/"
        },
        "id": "E8qfWT87DeJ2",
        "outputId": "da4d35e5-54d9-4c68-8ece-ef0467fef936"
      },
      "execution_count": null,
      "outputs": [
        {
          "output_type": "stream",
          "name": "stdout",
          "text": [
            "1\n",
            "2\n",
            "6\n",
            "[2 3 4]\n",
            "[1 2 3]\n",
            "[4 5 6]\n",
            "[False False False  True  True  True]\n"
          ]
        }
      ]
    },
    {
      "cell_type": "code",
      "source": [
        "# using 2 conditions\n",
        "result = (a>3) & (a<6)\n",
        "print(result)\n",
        "print(a[result])"
      ],
      "metadata": {
        "colab": {
          "base_uri": "https://localhost:8080/"
        },
        "id": "cbIS4FeCE0cA",
        "outputId": "9214f732-8dde-40df-dc9c-5147234f9751"
      },
      "execution_count": null,
      "outputs": [
        {
          "output_type": "stream",
          "name": "stdout",
          "text": [
            "[False False False  True  True False]\n",
            "[4 5]\n"
          ]
        }
      ]
    },
    {
      "cell_type": "code",
      "source": [
        "a[(a>3)&(a<6)]   # Elements greater than 3 and less than 6"
      ],
      "metadata": {
        "colab": {
          "base_uri": "https://localhost:8080/"
        },
        "id": "pQ1P6t6GFtWH",
        "outputId": "c4b51574-69fd-4f79-bd54-bb8bdc537071"
      },
      "execution_count": null,
      "outputs": [
        {
          "output_type": "execute_result",
          "data": {
            "text/plain": [
              "array([4, 5])"
            ]
          },
          "metadata": {},
          "execution_count": 118
        }
      ]
    },
    {
      "cell_type": "code",
      "source": [
        "a[(a>3)&(a<6) & ( a % 2 == 0) ]"
      ],
      "metadata": {
        "colab": {
          "base_uri": "https://localhost:8080/"
        },
        "id": "QFEu8t8rF-VC",
        "outputId": "102ec351-9d3d-439c-954c-efefaf0fbe0e"
      },
      "execution_count": null,
      "outputs": [
        {
          "output_type": "execute_result",
          "data": {
            "text/plain": [
              "array([4])"
            ]
          },
          "metadata": {},
          "execution_count": 120
        }
      ]
    },
    {
      "cell_type": "code",
      "source": [
        "a[(a > 3) | (a < 6)] # since the boolean operation is true all the elements will be printed"
      ],
      "metadata": {
        "colab": {
          "base_uri": "https://localhost:8080/"
        },
        "id": "1tlPKZn5G9eP",
        "outputId": "005bc695-5655-4833-b27f-635cc51743c3"
      },
      "execution_count": null,
      "outputs": [
        {
          "output_type": "execute_result",
          "data": {
            "text/plain": [
              "array([1, 2, 3, 4, 5, 6])"
            ]
          },
          "metadata": {},
          "execution_count": 121
        }
      ]
    },
    {
      "cell_type": "code",
      "source": [
        "# creating array from an existing one\n",
        "a = np.array([1,2,3,4,5,6])\n",
        "b = a.reshape((2,3))\n",
        "print(b)"
      ],
      "metadata": {
        "colab": {
          "base_uri": "https://localhost:8080/"
        },
        "id": "8sGZYYyPHPsC",
        "outputId": "00e924cc-1db5-44e5-d90c-be06924df128"
      },
      "execution_count": null,
      "outputs": [
        {
          "output_type": "stream",
          "name": "stdout",
          "text": [
            "[[1 2 3]\n",
            " [4 5 6]]\n"
          ]
        }
      ]
    },
    {
      "cell_type": "code",
      "source": [
        "# making an array from data elsewhere\n",
        "a = np.arange(50)\n",
        "print(a)"
      ],
      "metadata": {
        "colab": {
          "base_uri": "https://localhost:8080/"
        },
        "id": "afR_0yD4HsDU",
        "outputId": "002574c0-c187-40aa-9d80-58bb9c0d0dec"
      },
      "execution_count": null,
      "outputs": [
        {
          "output_type": "stream",
          "name": "stdout",
          "text": [
            "[ 0  1  2  3  4  5  6  7  8  9 10 11 12 13 14 15 16 17 18 19 20 21 22 23\n",
            " 24 25 26 27 28 29 30 31 32 33 34 35 36 37 38 39 40 41 42 43 44 45 46 47\n",
            " 48 49]\n"
          ]
        }
      ]
    },
    {
      "cell_type": "code",
      "source": [
        "# taking some elements\n",
        "arr1 = a[20:45]\n",
        "print(arr1)"
      ],
      "metadata": {
        "colab": {
          "base_uri": "https://localhost:8080/"
        },
        "id": "GYeYE2tqH1-M",
        "outputId": "f11cf763-2e42-4a11-e722-816b304b3bf2"
      },
      "execution_count": null,
      "outputs": [
        {
          "output_type": "stream",
          "name": "stdout",
          "text": [
            "[20 21 22 23 24 25 26 27 28 29 30 31 32 33 34 35 36 37 38 39 40 41 42 43\n",
            " 44]\n"
          ]
        }
      ]
    },
    {
      "cell_type": "code",
      "source": [
        "# stacking the arrays\n",
        "b = np.array([1,2,3,4,5,6])\n",
        "c = np.array([7,8,9,10,11,12])\n",
        "d = np.vstack((b,c)) # stacking vertically\n",
        "print(d)"
      ],
      "metadata": {
        "colab": {
          "base_uri": "https://localhost:8080/"
        },
        "id": "KpNZ41nYH9ro",
        "outputId": "4a99aeb0-8faf-43dc-b69e-ac3f04530ae4"
      },
      "execution_count": null,
      "outputs": [
        {
          "output_type": "stream",
          "name": "stdout",
          "text": [
            "[[ 1  2  3  4  5  6]\n",
            " [ 7  8  9 10 11 12]]\n"
          ]
        }
      ]
    },
    {
      "cell_type": "code",
      "source": [
        "#stacking horizontally\n",
        "d = np.hstack((b,c))\n",
        "print(d)"
      ],
      "metadata": {
        "colab": {
          "base_uri": "https://localhost:8080/"
        },
        "id": "Hg4TKZ_jIhvU",
        "outputId": "c216ab27-348c-4ebf-de8e-b6fa6af08f10"
      },
      "execution_count": null,
      "outputs": [
        {
          "output_type": "stream",
          "name": "stdout",
          "text": [
            "[ 1  2  3  4  5  6  7  8  9 10 11 12]\n"
          ]
        }
      ]
    },
    {
      "cell_type": "code",
      "source": [
        "# reshaping\n",
        "d = d.reshape((3,4))\n",
        "print(d)"
      ],
      "metadata": {
        "colab": {
          "base_uri": "https://localhost:8080/"
        },
        "id": "_hekXpYvIqIW",
        "outputId": "35c1e285-69c3-4610-8377-c8fafcfc1663"
      },
      "execution_count": null,
      "outputs": [
        {
          "output_type": "stream",
          "name": "stdout",
          "text": [
            "[[ 1  2  3  4]\n",
            " [ 5  6  7  8]\n",
            " [ 9 10 11 12]]\n"
          ]
        }
      ]
    },
    {
      "cell_type": "markdown",
      "source": [
        "# Matrix or matrices"
      ],
      "metadata": {
        "id": "_xdAhEzpOMNk"
      }
    },
    {
      "cell_type": "code",
      "source": [
        "a = np.array([[1,2,3,4,5],[6,7,8,9,10]])\n",
        "print(a)"
      ],
      "metadata": {
        "id": "zu3on2IsI2b2",
        "colab": {
          "base_uri": "https://localhost:8080/"
        },
        "outputId": "22f9e1ec-50fc-4a3f-c8f3-a8e329c9ee2a"
      },
      "execution_count": 129,
      "outputs": [
        {
          "output_type": "stream",
          "name": "stdout",
          "text": [
            "[[ 1  2  3  4  5]\n",
            " [ 6  7  8  9 10]]\n"
          ]
        }
      ]
    },
    {
      "cell_type": "code",
      "source": [
        "b = np.arange(0,50,2).reshape(5,5)\n",
        "print(b)"
      ],
      "metadata": {
        "colab": {
          "base_uri": "https://localhost:8080/"
        },
        "id": "S3kU6-x0OchB",
        "outputId": "adf2386c-5b18-4ffc-9b20-24a9feb6e41e"
      },
      "execution_count": 131,
      "outputs": [
        {
          "output_type": "stream",
          "name": "stdout",
          "text": [
            "[[ 0  2  4  6  8]\n",
            " [10 12 14 16 18]\n",
            " [20 22 24 26 28]\n",
            " [30 32 34 36 38]\n",
            " [40 42 44 46 48]]\n"
          ]
        }
      ]
    },
    {
      "cell_type": "code",
      "source": [
        "b[:,:] # all rows and all columns"
      ],
      "metadata": {
        "colab": {
          "base_uri": "https://localhost:8080/"
        },
        "id": "YX2qHLz3OsLj",
        "outputId": "979050e1-0c63-4bcb-e205-f6916aa312d9"
      },
      "execution_count": 132,
      "outputs": [
        {
          "output_type": "execute_result",
          "data": {
            "text/plain": [
              "array([[ 0,  2,  4,  6,  8],\n",
              "       [10, 12, 14, 16, 18],\n",
              "       [20, 22, 24, 26, 28],\n",
              "       [30, 32, 34, 36, 38],\n",
              "       [40, 42, 44, 46, 48]])"
            ]
          },
          "metadata": {},
          "execution_count": 132
        }
      ]
    },
    {
      "cell_type": "code",
      "source": [
        "b[1:,:] # all rows except first and all the columns"
      ],
      "metadata": {
        "colab": {
          "base_uri": "https://localhost:8080/"
        },
        "id": "J__ikbrIO0Vh",
        "outputId": "423434b5-471a-4109-a850-ab7fce29542c"
      },
      "execution_count": 133,
      "outputs": [
        {
          "output_type": "execute_result",
          "data": {
            "text/plain": [
              "array([[10, 12, 14, 16, 18],\n",
              "       [20, 22, 24, 26, 28],\n",
              "       [30, 32, 34, 36, 38],\n",
              "       [40, 42, 44, 46, 48]])"
            ]
          },
          "metadata": {},
          "execution_count": 133
        }
      ]
    },
    {
      "cell_type": "code",
      "source": [
        "b[1:3,:] #select rows from index 1 to 3(3 is not included) and all the columns"
      ],
      "metadata": {
        "colab": {
          "base_uri": "https://localhost:8080/"
        },
        "id": "j8v0A4k8PAqX",
        "outputId": "8be634f5-bce8-4983-c8aa-2a6771358b49"
      },
      "execution_count": 134,
      "outputs": [
        {
          "output_type": "execute_result",
          "data": {
            "text/plain": [
              "array([[10, 12, 14, 16, 18],\n",
              "       [20, 22, 24, 26, 28]])"
            ]
          },
          "metadata": {},
          "execution_count": 134
        }
      ]
    },
    {
      "cell_type": "code",
      "source": [
        "b[1:3,2:] #select columns from 2 till end and rows from index 1 to 3"
      ],
      "metadata": {
        "colab": {
          "base_uri": "https://localhost:8080/"
        },
        "id": "RVyGrJ6FPdsB",
        "outputId": "6f554886-798d-42e4-c2dd-6940c5eabc8e"
      },
      "execution_count": 135,
      "outputs": [
        {
          "output_type": "execute_result",
          "data": {
            "text/plain": [
              "array([[14, 16, 18],\n",
              "       [24, 26, 28]])"
            ]
          },
          "metadata": {},
          "execution_count": 135
        }
      ]
    },
    {
      "cell_type": "code",
      "source": [
        "# slicing a matric\n",
        "c=b[1:3,3:5]\n",
        "print(c)"
      ],
      "metadata": {
        "colab": {
          "base_uri": "https://localhost:8080/"
        },
        "id": "-4zH9ASkQSzD",
        "outputId": "a4696487-1d02-471b-eea9-3891dc48a7da"
      },
      "execution_count": 136,
      "outputs": [
        {
          "output_type": "stream",
          "name": "stdout",
          "text": [
            "[[16 18]\n",
            " [26 28]]\n"
          ]
        }
      ]
    },
    {
      "cell_type": "code",
      "source": [
        "# getting max\n",
        "c.max()"
      ],
      "metadata": {
        "colab": {
          "base_uri": "https://localhost:8080/"
        },
        "id": "GXgBnVctQebJ",
        "outputId": "121b5db6-bbd0-4341-eac5-cccdb695cd7a"
      },
      "execution_count": 137,
      "outputs": [
        {
          "output_type": "execute_result",
          "data": {
            "text/plain": [
              "np.int64(28)"
            ]
          },
          "metadata": {},
          "execution_count": 137
        }
      ]
    },
    {
      "cell_type": "code",
      "source": [
        "#getting min\n",
        "c.min()"
      ],
      "metadata": {
        "colab": {
          "base_uri": "https://localhost:8080/"
        },
        "id": "rPMXawSjQpaU",
        "outputId": "8d1d6ce3-7a06-4b49-c048-1237299d9d50"
      },
      "execution_count": 138,
      "outputs": [
        {
          "output_type": "execute_result",
          "data": {
            "text/plain": [
              "np.int64(16)"
            ]
          },
          "metadata": {},
          "execution_count": 138
        }
      ]
    },
    {
      "cell_type": "code",
      "source": [
        "#getting sum\n",
        "c.sum()"
      ],
      "metadata": {
        "colab": {
          "base_uri": "https://localhost:8080/"
        },
        "id": "HIVQgqByQtk4",
        "outputId": "8782eddc-a0f4-4441-8c16-1e7477847b90"
      },
      "execution_count": 139,
      "outputs": [
        {
          "output_type": "execute_result",
          "data": {
            "text/plain": [
              "np.int64(88)"
            ]
          },
          "metadata": {},
          "execution_count": 139
        }
      ]
    },
    {
      "cell_type": "code",
      "source": [
        "c.max(axis=1) # max column"
      ],
      "metadata": {
        "colab": {
          "base_uri": "https://localhost:8080/"
        },
        "id": "2Y9619b8QzIi",
        "outputId": "14111e66-7dcb-49c6-9a5a-a63778ee5d1c"
      },
      "execution_count": 140,
      "outputs": [
        {
          "output_type": "execute_result",
          "data": {
            "text/plain": [
              "array([18, 28])"
            ]
          },
          "metadata": {},
          "execution_count": 140
        }
      ]
    },
    {
      "cell_type": "code",
      "source": [
        "c.min(axis=0) # min colum"
      ],
      "metadata": {
        "colab": {
          "base_uri": "https://localhost:8080/"
        },
        "id": "IR5-OE_8Q-cQ",
        "outputId": "2cad2e1d-4a35-4cb6-873d-52f40819952f"
      },
      "execution_count": 141,
      "outputs": [
        {
          "output_type": "execute_result",
          "data": {
            "text/plain": [
              "array([16, 18])"
            ]
          },
          "metadata": {},
          "execution_count": 141
        }
      ]
    },
    {
      "cell_type": "code",
      "source": [
        "m = np.arange(0,50,5).reshape(5,2)\n",
        "m"
      ],
      "metadata": {
        "colab": {
          "base_uri": "https://localhost:8080/"
        },
        "id": "JGbcPrioRExu",
        "outputId": "900db1d6-fe65-408c-f8a7-0a2b2bde2a97"
      },
      "execution_count": 142,
      "outputs": [
        {
          "output_type": "execute_result",
          "data": {
            "text/plain": [
              "array([[ 0,  5],\n",
              "       [10, 15],\n",
              "       [20, 25],\n",
              "       [30, 35],\n",
              "       [40, 45]])"
            ]
          },
          "metadata": {},
          "execution_count": 142
        }
      ]
    },
    {
      "cell_type": "code",
      "source": [
        "m + np.array([2, 5])"
      ],
      "metadata": {
        "colab": {
          "base_uri": "https://localhost:8080/"
        },
        "id": "SjnJ3oeVRVY7",
        "outputId": "ec399643-95df-4754-b02a-ad7a6532ff68"
      },
      "execution_count": 143,
      "outputs": [
        {
          "output_type": "execute_result",
          "data": {
            "text/plain": [
              "array([[ 2, 10],\n",
              "       [12, 20],\n",
              "       [22, 30],\n",
              "       [32, 40],\n",
              "       [42, 50]])"
            ]
          },
          "metadata": {},
          "execution_count": 143
        }
      ]
    },
    {
      "cell_type": "code",
      "source": [
        "np.vstack(m + np.array([2, 5])) #stacked vertically"
      ],
      "metadata": {
        "colab": {
          "base_uri": "https://localhost:8080/"
        },
        "id": "UZU3sNlxRpX7",
        "outputId": "4f4cfd68-ee1b-417d-abee-881908d4096f"
      },
      "execution_count": 144,
      "outputs": [
        {
          "output_type": "execute_result",
          "data": {
            "text/plain": [
              "array([[ 2, 10],\n",
              "       [12, 20],\n",
              "       [22, 30],\n",
              "       [32, 40],\n",
              "       [42, 50]])"
            ]
          },
          "metadata": {},
          "execution_count": 144
        }
      ]
    },
    {
      "cell_type": "code",
      "source": [
        "np.hstack(m + np.array([2, 5])) #stacked horizontally"
      ],
      "metadata": {
        "colab": {
          "base_uri": "https://localhost:8080/"
        },
        "id": "Dzl-335URz1e",
        "outputId": "777fe3dd-a1d5-47e6-cbfa-ce246d30d673"
      },
      "execution_count": 145,
      "outputs": [
        {
          "output_type": "execute_result",
          "data": {
            "text/plain": [
              "array([ 2, 10, 12, 20, 22, 30, 32, 40, 42, 50])"
            ]
          },
          "metadata": {},
          "execution_count": 145
        }
      ]
    },
    {
      "cell_type": "code",
      "source": [
        "#generate randmom numbers\n",
        "import random\n",
        "random_numbers = [random.randint(1,100) for i in range(10)]\n",
        "print(random_numbers)"
      ],
      "metadata": {
        "colab": {
          "base_uri": "https://localhost:8080/"
        },
        "id": "UGzIGjzdR6UY",
        "outputId": "616f48bd-dfb3-4aac-ff8a-507d5c9c38e6"
      },
      "execution_count": 146,
      "outputs": [
        {
          "output_type": "stream",
          "name": "stdout",
          "text": [
            "[56, 48, 35, 96, 79, 79, 66, 16, 85, 23]\n"
          ]
        }
      ]
    }
  ]
}