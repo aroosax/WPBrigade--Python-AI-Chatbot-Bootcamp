{
  "nbformat": 4,
  "nbformat_minor": 0,
  "metadata": {
    "colab": {
      "provenance": []
    },
    "kernelspec": {
      "name": "python3",
      "display_name": "Python 3"
    },
    "language_info": {
      "name": "python"
    }
  },
  "cells": [
    {
      "cell_type": "markdown",
      "source": [
        "# Basic Concepts of Machine Learning"
      ],
      "metadata": {
        "id": "McRfn4bR53-P"
      }
    },
    {
      "cell_type": "code",
      "execution_count": 1,
      "metadata": {
        "id": "oNeJoqCddQEC"
      },
      "outputs": [],
      "source": [
        "import pandas as pd\n",
        "from sklearn.preprocessing import LabelEncoder"
      ]
    },
    {
      "cell_type": "code",
      "source": [
        "# dummy dataset\n",
        "df = pd.DataFrame({\n",
        "    'Size':['Small','Medium','Large','Medium','Small']\n",
        "})\n",
        "print('Original Data\\n',df,'\\n')"
      ],
      "metadata": {
        "colab": {
          "base_uri": "https://localhost:8080/"
        },
        "id": "2D_0s7fKfxPn",
        "outputId": "5f408be6-35c4-451e-c842-23935c0a87b5"
      },
      "execution_count": 13,
      "outputs": [
        {
          "output_type": "stream",
          "name": "stdout",
          "text": [
            "Original Data\n",
            "      Size\n",
            "0   Small\n",
            "1  Medium\n",
            "2   Large\n",
            "3  Medium\n",
            "4   Small \n",
            "\n"
          ]
        }
      ]
    },
    {
      "cell_type": "code",
      "source": [
        "#apply label encoding\n",
        "le = LabelEncoder()\n",
        "df['Size_Label'] = le.fit_transform(df['Size']) #size_label helps to store tha original and the encoded values\n",
        "print(df)"
      ],
      "metadata": {
        "colab": {
          "base_uri": "https://localhost:8080/"
        },
        "id": "BqLjbeHUgaxc",
        "outputId": "540cfed9-9f42-4672-f2e0-e58689e8dcc2"
      },
      "execution_count": 15,
      "outputs": [
        {
          "output_type": "stream",
          "name": "stdout",
          "text": [
            "     Size  Size_Label\n",
            "0   Small           2\n",
            "1  Medium           1\n",
            "2   Large           0\n",
            "3  Medium           1\n",
            "4   Small           2\n"
          ]
        }
      ]
    },
    {
      "cell_type": "code",
      "source": [
        "#dummy data\n",
        "df = pd.DataFrame({\n",
        "    'Colors':['Red','Blue','Green','Blue','Red']\n",
        "})\n",
        "print('Original Data\\n',df,'\\n')"
      ],
      "metadata": {
        "colab": {
          "base_uri": "https://localhost:8080/"
        },
        "id": "86RdQIKLiza5",
        "outputId": "1f140fb3-4066-44ab-cd99-2a8159b4fede"
      },
      "execution_count": 16,
      "outputs": [
        {
          "output_type": "stream",
          "name": "stdout",
          "text": [
            "Original Data\n",
            "   Colors\n",
            "0    Red\n",
            "1   Blue\n",
            "2  Green\n",
            "3   Blue\n",
            "4    Red \n",
            "\n"
          ]
        }
      ]
    },
    {
      "cell_type": "code",
      "source": [
        "# one hot encoded\n",
        "df.onehot = pd.get_dummies(df['Colors']) # df.dummies performs the onehot encoding\n",
        "print('After one hot encoding\\n',df.onehot)"
      ],
      "metadata": {
        "colab": {
          "base_uri": "https://localhost:8080/"
        },
        "id": "Ix_nsxOZjOaS",
        "outputId": "2468d356-f7f0-4fbc-c9bc-577c3cd185ee"
      },
      "execution_count": 20,
      "outputs": [
        {
          "output_type": "stream",
          "name": "stdout",
          "text": [
            "After one hot encoding\n",
            "     Blue  Green    Red\n",
            "0  False  False   True\n",
            "1   True  False  False\n",
            "2  False   True  False\n",
            "3   True  False  False\n",
            "4  False  False   True\n"
          ]
        }
      ]
    },
    {
      "cell_type": "markdown",
      "source": [
        "# Minmax Scaler"
      ],
      "metadata": {
        "id": "Qua1WJXQxA3S"
      }
    },
    {
      "cell_type": "code",
      "source": [
        "import pandas as pd\n",
        "from sklearn.preprocessing import MinMaxScaler\n",
        "\n",
        "#example dataset\n",
        "df = pd.DataFrame({\n",
        "    'age':['20','30','40'],\n",
        "    'Salary':['20000','40000','100000']\n",
        "})\n",
        "print('Original Data\\n',df)"
      ],
      "metadata": {
        "colab": {
          "base_uri": "https://localhost:8080/"
        },
        "id": "kVSjFPjqkEyl",
        "outputId": "32393a85-0916-4cd3-f6ae-1c5c28dc82e3"
      },
      "execution_count": 21,
      "outputs": [
        {
          "output_type": "stream",
          "name": "stdout",
          "text": [
            "Original Data\n",
            "   age  Salary\n",
            "0  20   20000\n",
            "1  30   40000\n",
            "2  40  100000\n"
          ]
        }
      ]
    },
    {
      "cell_type": "code",
      "source": [
        "# applyin minmax scaler\n",
        "scaler = MinMaxScaler()\n",
        "df_scaled =pd.DataFrame(scaler.fit_transform(df), columns=df.columns)\n",
        "print('After minmax scaling\\n',df_scaled)"
      ],
      "metadata": {
        "colab": {
          "base_uri": "https://localhost:8080/"
        },
        "id": "U4Jt_1pzoNG8",
        "outputId": "a6221081-71a8-4ea7-e92f-7bf1fc8d59f5"
      },
      "execution_count": 26,
      "outputs": [
        {
          "output_type": "stream",
          "name": "stdout",
          "text": [
            "After minmax scaling\n",
            "    age  Salary\n",
            "0  0.0    0.00\n",
            "1  0.5    0.25\n",
            "2  1.0    1.00\n"
          ]
        }
      ]
    },
    {
      "cell_type": "markdown",
      "source": [
        "# Standardization or Z-Score"
      ],
      "metadata": {
        "id": "y4xtT3b1vPrt"
      }
    },
    {
      "cell_type": "code",
      "source": [
        "import pandas as pd\n",
        "from sklearn.preprocessing import  StandardScaler\n",
        "\n",
        "#Example dataset\n",
        "df = pd.DataFrame({\n",
        "    'age':['20','30','40'],\n",
        "    'Salary':['20000','40000','100000']\n",
        "})\n",
        "print('Original Data\\n',df)"
      ],
      "metadata": {
        "colab": {
          "base_uri": "https://localhost:8080/"
        },
        "id": "1Qk8lZz7vUDC",
        "outputId": "911027a0-c43b-45c0-e8d7-086d8990653f"
      },
      "execution_count": 27,
      "outputs": [
        {
          "output_type": "stream",
          "name": "stdout",
          "text": [
            "Original Data\n",
            "   age  Salary\n",
            "0  20   20000\n",
            "1  30   40000\n",
            "2  40  100000\n"
          ]
        }
      ]
    },
    {
      "cell_type": "code",
      "source": [
        "#applying standardization (z-score)\n",
        "scaler = StandardScaler()\n",
        "df_scaled = pd.DataFrame(scaler.fit_transform(df),columns=df.columns)\n",
        "print('After Standardization\\n',df_scaled)"
      ],
      "metadata": {
        "colab": {
          "base_uri": "https://localhost:8080/"
        },
        "id": "cZhW1BTyv3Vq",
        "outputId": "381b03ac-3a12-4799-f8d0-4dcf565c971c"
      },
      "execution_count": 29,
      "outputs": [
        {
          "output_type": "stream",
          "name": "stdout",
          "text": [
            "After Standardization\n",
            "         age    Salary\n",
            "0 -1.224745 -0.980581\n",
            "1  0.000000 -0.392232\n",
            "2  1.224745  1.372813\n"
          ]
        }
      ]
    },
    {
      "cell_type": "markdown",
      "source": [
        "# Outlier\n",
        " data points that significantly deviate from the majority of other data points in a dataset"
      ],
      "metadata": {
        "id": "-d6Hd8GtxF34"
      }
    },
    {
      "cell_type": "code",
      "source": [
        "import pandas as pd\n",
        "import seaborn as sns\n",
        "import matplotlib.pyplot as plt\n",
        "\n",
        "#Example Dataset\n",
        "df = pd.DataFrame({'Marks':[10,20,30,40,50,100]})\n",
        "\n",
        "#box plot to detect outliers\n",
        "#df.boxplot()\n",
        "sns.boxplot(data=df, y='Marks')\n",
        "plt.show()"
      ],
      "metadata": {
        "colab": {
          "base_uri": "https://localhost:8080/",
          "height": 411
        },
        "id": "C3py5HaqxMEi",
        "outputId": "da74fac5-0e13-4071-b6b8-c8703bca47dd"
      },
      "execution_count": 36,
      "outputs": [
        {
          "output_type": "display_data",
          "data": {
            "text/plain": [
              "<Figure size 640x480 with 1 Axes>"
            ],
            "image/png": "[encoded data removed]"
          },
          "metadata": {}
        }
      ]
    },
    {
      "cell_type": "markdown",
      "source": [
        "# IQR (Inter Quartile Range)\n",
        " identifies outliers by first calculating the IQR, which is the difference between the third quartile (Q3) and the first quartile (Q1) of a sorted dataset. Outliers are then defined as values falling below the lower fence\n",
        " (Q1 – 1.5IQR) or above the upper fence (Q3 + 1.5IQR)."
      ],
      "metadata": {
        "id": "EA0D5aXp3RnH"
      }
    },
    {
      "cell_type": "code",
      "source": [
        "Q1 = df['Marks'].quantile(0.25)\n",
        "Q3 = df['Marks'].quantile(0.75)\n",
        "IQR = Q3 -Q1\n",
        "# this is how to find outliers\n",
        "outliers = df[(df['Marks']< Q1 - 1.5*IQR)|(df['Marks'] > Q3 + 1.5*IQR)]\n",
        "print('Outliers\\n',outliers)"
      ],
      "metadata": {
        "colab": {
          "base_uri": "https://localhost:8080/"
        },
        "id": "P7TkOQD2ySU_",
        "outputId": "1193b301-d639-4c09-ba25-42e394a3b9da"
      },
      "execution_count": 41,
      "outputs": [
        {
          "output_type": "stream",
          "name": "stdout",
          "text": [
            "Outliers\n",
            "    Marks\n",
            "5    100\n"
          ]
        }
      ]
    }
  ]
}